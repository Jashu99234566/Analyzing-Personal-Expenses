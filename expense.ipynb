{
 "cells": [
  {
   "cell_type": "code",
   "execution_count": 7,
   "metadata": {},
   "outputs": [],
   "source": [
    "from mysql.connector import connect, Error\n",
    "import pandas as pd\n",
    "from faker import Faker\n",
    "import random\n",
    "from datetime import datetime\n",
    "from calendar import monthrange"
   ]
  },
  {
   "cell_type": "code",
   "execution_count": 8,
   "metadata": {},
   "outputs": [],
   "source": [
    "#initialize faker\n",
    "fake = Faker()"
   ]
  },
  {
   "cell_type": "code",
   "execution_count": 9,
   "metadata": {},
   "outputs": [],
   "source": [
    "categories = [\"Groceries\", \"stationary\", \"shopping\", \"entertainment\", \"travel\", \"health\", \"bills\", \"rent\", \"Investments\", \"other\"]\n",
    "payment_modes = [\"Cash\", \"Debit Card\", \"UPI\", \"Netbanking\", \"Credit Card\"]\n",
    "\n",
    "descriptions = {\n",
    "    \"Groceries\": [\n",
    "        \"bought fruits from Mart\",\n",
    "        \"bought vegetables from Mart\",\n",
    "        \"bought meat from store\",\n",
    "        \"bought some households from store\"\n",
    "    ],\n",
    "    \"stationary\": [\n",
    "        \"bought pen from store\",\n",
    "        \"bought notebook from store\",\n",
    "        \"bought pencil from store\",\n",
    "        \"bought scissors from store\"\n",
    "    ],\n",
    "    \"shopping\": [\n",
    "        \"bought clothes from mall\",\n",
    "        \"bought shoes from mall\",\n",
    "        \"bought accessories from mall\",\n",
    "        \"bought bags from mall\"\n",
    "    ],\n",
    "    \"entertainment\": [\n",
    "        \"bought movie tickets\",\n",
    "        \"bought concert tickets\",\n",
    "        \"bought event tickets\",\n",
    "        \"bought party tickets\"\n",
    "    ],\n",
    "    \"travel\": [\n",
    "        \"bought flight tickets\",\n",
    "        \"bought train tickets\",\n",
    "        \"bought bus tickets\",\n",
    "        \"bought taxi tickets\"\n",
    "    ],\n",
    "    \"health\": [\n",
    "        \"bought medicines\",\n",
    "        \"bought supplements\",\n",
    "        \"health checkup expenses\",\n",
    "        \"bought health insurance\"\n",
    "    ],\n",
    "    \"bills\": [\n",
    "        \"paid electricity bill\",\n",
    "        \"paid water bill\",\n",
    "        \"paid internet bill\",\n",
    "        \"paid phone bill\"\n",
    "    ],\n",
    "    \"rent\": [\n",
    "        \"paid house rent\"\n",
    "    ],\n",
    "    \"Investments\": [\n",
    "        \"bought stocks\",\n",
    "        \"bought mutual funds\",\n",
    "        \"bought gold\",\n",
    "        \"bought silver\"\n",
    "    ],\n",
    "    \"other\": [\n",
    "        \"bought gifts\",\n",
    "        \"bought gadgets\"\n",
    "    ]\n",
    "}"
   ]
  },
  {
   "cell_type": "code",
   "execution_count": 10,
   "metadata": {},
   "outputs": [],
   "source": [
    "connection = connect(\n",
    "    host=\"localhost\",\n",
    "    user=\"root\",  \n",
    "    password=\"Jashu@#1234\",  \n",
    ")\n",
    "cursor = connection.cursor()"
   ]
  },
  {
   "cell_type": "code",
   "execution_count": 11,
   "metadata": {},
   "outputs": [],
   "source": [
    "connection.reconnect()"
   ]
  },
  {
   "cell_type": "code",
   "execution_count": 12,
   "metadata": {},
   "outputs": [
    {
     "data": {
      "text/plain": [
       "<generator object CMySQLCursor._execute_iter at 0x000001A11A2276A0>"
      ]
     },
     "execution_count": 12,
     "metadata": {},
     "output_type": "execute_result"
    }
   ],
   "source": [
    "# Create a new database and table for storing expenses\n",
    "create_db_query = \"\"\"\n",
    "CREATE DATABASE IF NOT EXISTS ExpenseDB;\n",
    "USE ExpenseDB;\n",
    "\n",
    "CREATE TABLE IF NOT EXISTS Expenses (\n",
    "    id INT AUTO_INCREMENT PRIMARY KEY,\n",
    "    Date DATE,\n",
    "    Category VARCHAR(50),\n",
    "    Payment_Mode VARCHAR(50),\n",
    "    Description TEXT,\n",
    "    Amount DECIMAL(10, 2),\n",
    "    Cashback DECIMAL(6, 2)\n",
    ");\n",
    "\"\"\"\n",
    "\n",
    "# Reconnect to the database if not connected\n",
    "if not connection.is_connected():\n",
    "    connection.reconnect()\n",
    "\n",
    "# Execute the query\n",
    "cursor.execute(create_db_query, multi=True)\n"
   ]
  },
  {
   "cell_type": "code",
   "execution_count": 13,
   "metadata": {},
   "outputs": [],
   "source": [
    "# Function to generate data for each month\n",
    "def gen_exp_data_per_month():\n",
    "    exp_data_per_month = {}\n",
    "    for month in range(1, 13):\n",
    "        month_str = f\"2025-{month:02d}\"\n",
    "        data = []\n",
    "        for _ in range(120):\n",
    "            # Generate a date within the specific month\n",
    "            days_in_month = monthrange(2025, month)[1]\n",
    "            start_date = datetime(2025, month, 1)\n",
    "            end_date = datetime(2025, month, days_in_month)\n",
    "            date = fake.date_between_dates(date_start=start_date, date_end=end_date)\n",
    "\n",
    "            # Generate other fields\n",
    "            category = random.choice(categories)\n",
    "            cashback = round(random.uniform(50.0, 600.0), 1)  # Cap cashback between 50 and 600\n",
    "            expense = {\n",
    "                \"Date\": date,\n",
    "                \"Category\": category,\n",
    "                \"Payment_Mode\": random.choice(payment_modes),\n",
    "                \"Description\": random.choice(descriptions[category]),\n",
    "                \"Amount\": random.randint(100, 10000),\n",
    "                \"Cashback\": cashback,\n",
    "            }\n",
    "            data.append(expense)\n",
    "        exp_data_per_month[month_str] = pd.DataFrame(data)\n",
    "    return exp_data_per_month"
   ]
  },
  {
   "cell_type": "code",
   "execution_count": 14,
   "metadata": {},
   "outputs": [],
   "source": [
    "# Generate data\n",
    "exp_data_per_month = gen_exp_data_per_month()"
   ]
  },
  {
   "cell_type": "code",
   "execution_count": 15,
   "metadata": {},
   "outputs": [],
   "source": [
    "# MySQL connection and data insertion\n",
    "try:\n",
    "    connection = connect(\n",
    "        host=\"localhost\",\n",
    "        user=\"root\",  \n",
    "        password=\"Jashu@#1234\",  \n",
    "        database=\"ExpenseDB\"\n",
    "    )\n",
    "    cursor = connection.cursor()\n",
    "except Error as e:\n",
    "    print(f\"Error occurred: {e}\")"
   ]
  },
  {
   "cell_type": "code",
   "execution_count": 16,
   "metadata": {},
   "outputs": [
    {
     "name": "stdout",
     "output_type": "stream",
     "text": [
      "Processing data for month: 2025-01\n",
      "Data for 2025/01 inserted successfully.\n",
      "Processing data for month: 2025-02\n",
      "Data for 2025/02 inserted successfully.\n",
      "Processing data for month: 2025-03\n",
      "Data for 2025/03 inserted successfully.\n",
      "Processing data for month: 2025-04\n",
      "Data for 2025/04 inserted successfully.\n",
      "Processing data for month: 2025-05\n",
      "Data for 2025/05 inserted successfully.\n",
      "Processing data for month: 2025-06\n",
      "Data for 2025/06 inserted successfully.\n",
      "Processing data for month: 2025-07\n",
      "Data for 2025/07 inserted successfully.\n",
      "Processing data for month: 2025-08\n",
      "Data for 2025/08 inserted successfully.\n",
      "Processing data for month: 2025-09\n",
      "Data for 2025/09 inserted successfully.\n",
      "Processing data for month: 2025-10\n",
      "Data for 2025/10 inserted successfully.\n",
      "Processing data for month: 2025-11\n",
      "Data for 2025/11 inserted successfully.\n",
      "Processing data for month: 2025-12\n",
      "Data for 2025/12 inserted successfully.\n",
      "Database connection closed.\n"
     ]
    }
   ],
   "source": [
    "insert_query = \"\"\"\n",
    "    INSERT INTO Expenses (Date, Category, Payment_Mode, Description, Amount, Cashback)\n",
    "    VALUES (%s, %s, %s, %s, %s, %s)\n",
    "\"\"\"\n",
    "\n",
    "try:\n",
    "    for month, df in exp_data_per_month.items():\n",
    "        if not df.empty:  # Check if DataFrame is not empty\n",
    "            print(f\"Processing data for month: {month}\")\n",
    "            \n",
    "            # Extracting and formatting data for insertion\n",
    "            data_to_insert = df[['Date', 'Category', 'Payment_Mode', 'Description', 'Amount', 'Cashback']].to_records(index=False).tolist()\n",
    "            \n",
    "            # Insert data into the table\n",
    "            cursor.executemany(insert_query, data_to_insert)\n",
    "            \n",
    "            # Commit changes to the database\n",
    "            connection.commit()\n",
    "            \n",
    "            # Print success message for the specific month\n",
    "            print(f\"Data for {month[:4]}/{month[5:]} inserted successfully.\")\n",
    "        \n",
    "except Error as e:\n",
    "    print(f\"Error occurred: {e}\")\n",
    "\n",
    "finally:\n",
    "    # Ensure resources are released properly\n",
    "    if connection.is_connected():\n",
    "        cursor.close()\n",
    "        connection.close()\n",
    "        print(\"Database connection closed.\")\n"
   ]
  },
  {
   "cell_type": "code",
   "execution_count": 17,
   "metadata": {},
   "outputs": [],
   "source": [
    "# Set Pandas display options to show wide tables in one line\n",
    "pd.set_option('display.max_columns', None)   # Show all columns\n",
    "pd.set_option('display.width', 1000)         # Increase display width\n",
    "pd.set_option('display.colheader_justify', 'left')  # Center align column headers"
   ]
  },
  {
   "cell_type": "code",
   "execution_count": 18,
   "metadata": {},
   "outputs": [
    {
     "name": "stdout",
     "output_type": "stream",
     "text": [
      "Successfully connected to the database.\n"
     ]
    }
   ],
   "source": [
    "# Connect to MySQL database\n",
    "try:\n",
    "    connection = connect(\n",
    "        host=\"localhost\",\n",
    "        user=\"root\",       # Replace with your username\n",
    "        password=\"Jashu@#1234\",   # Replace with your password\n",
    "        database=\"ExpenseDB\"        # Replace with your database name\n",
    "    )\n",
    "    if connection.is_connected():\n",
    "        cursor = connection.cursor()\n",
    "        print(\"Successfully connected to the database.\")\n",
    "except Error as e:\n",
    "    print(f\"Error occurred: {e}\")"
   ]
  },
  {
   "cell_type": "code",
   "execution_count": 19,
   "metadata": {},
   "outputs": [
    {
     "name": "stdout",
     "output_type": "stream",
     "text": [
      "1. Total Amount Spent in Each Category:\n",
      "  Category       Total Spent\n",
      "0     stationary  714468.00 \n",
      "1    Investments  797000.00 \n",
      "2           rent  755741.00 \n",
      "3  entertainment  722893.00 \n",
      "4          bills  672569.00 \n",
      "5       shopping  747879.00 \n",
      "6          other  749415.00 \n",
      "7      Groceries  642265.00 \n",
      "8         health  627335.00 \n",
      "9         travel  754147.00 \n"
     ]
    }
   ],
   "source": [
    "# Query 1: Total amount spent in each category\n",
    "cursor.execute(\"SELECT Category, SUM(Amount) AS Total_Spent FROM Expenses GROUP BY Category;\")\n",
    "result1 = cursor.fetchall()\n",
    "df1 = pd.DataFrame(result1, columns=[\"Category\", \"Total Spent\"])\n",
    "print(\"1. Total Amount Spent in Each Category:\")\n",
    "print(df1)"
   ]
  },
  {
   "cell_type": "code",
   "execution_count": 20,
   "metadata": {},
   "outputs": [
    {
     "name": "stdout",
     "output_type": "stream",
     "text": [
      "\n",
      "2. Total Amount Spent Using Each Payment Mode:\n",
      "  Payment Mode Total Spent\n",
      "0   Netbanking  1347160.00\n",
      "1  Credit Card  1556180.00\n",
      "2         Cash  1377660.00\n",
      "3          UPI  1438213.00\n",
      "4   Debit Card  1464499.00\n"
     ]
    }
   ],
   "source": [
    "# Query 2: Total amount spent using each payment mode\n",
    "cursor.execute(\"SELECT Payment_Mode, SUM(Amount) AS Total_Spent FROM Expenses GROUP BY Payment_Mode;\")\n",
    "result2 = cursor.fetchall()\n",
    "df2 = pd.DataFrame(result2, columns=[\"Payment Mode\", \"Total Spent\"])\n",
    "print(\"\\n2. Total Amount Spent Using Each Payment Mode:\")\n",
    "print(df2)\n"
   ]
  },
  {
   "cell_type": "code",
   "execution_count": 21,
   "metadata": {},
   "outputs": [
    {
     "name": "stdout",
     "output_type": "stream",
     "text": [
      "\n",
      "3. Total Cashback Received Across All Transactions:\n",
      "Total Cashback: ₹465,483.30\n"
     ]
    }
   ],
   "source": [
    "# Query 3: Total cashback received across all transactions\n",
    "cursor.execute(\"SELECT SUM(Cashback) AS Total_Cashback FROM Expenses;\")\n",
    "result3 = cursor.fetchone()\n",
    "print(\"\\n3. Total Cashback Received Across All Transactions:\")\n",
    "print(f\"Total Cashback: ₹{result3[0]:,.2f}\")"
   ]
  },
  {
   "cell_type": "code",
   "execution_count": 24,
   "metadata": {},
   "outputs": [
    {
     "name": "stdout",
     "output_type": "stream",
     "text": [
      "\n",
      "4. Top 5 Most Expensive Categories:\n",
      "  Category     Total Spent\n",
      "0  Investments  797000.00 \n",
      "1         rent  755741.00 \n",
      "2       travel  754147.00 \n",
      "3        other  749415.00 \n",
      "4     shopping  747879.00 \n"
     ]
    }
   ],
   "source": [
    "# Query 4: Top 5 most expensive categories\n",
    "cursor.execute(\"SELECT Category, SUM(Amount) AS Total_Spent FROM Expenses GROUP BY Category ORDER BY Total_Spent DESC LIMIT 5;\")\n",
    "result4 = cursor.fetchall()\n",
    "df4 = pd.DataFrame(result4, columns=[\"Category\", \"Total Spent\"])\n",
    "print(\"\\n4. Top 5 Most Expensive Categories:\")\n",
    "print(df4)"
   ]
  },
  {
   "cell_type": "code",
   "execution_count": 25,
   "metadata": {},
   "outputs": [
    {
     "name": "stdout",
     "output_type": "stream",
     "text": [
      "\n",
      "5. Spending on Transportation by Payment Mode:\n",
      "  Payment Mode Total Spent\n",
      "0   Netbanking  120214.00 \n",
      "1  Credit Card  174983.00 \n",
      "2   Debit Card  115359.00 \n",
      "3          UPI  181757.00 \n",
      "4         Cash  161834.00 \n"
     ]
    }
   ],
   "source": [
    "# Query 5: Spending on transportation by payment mode\n",
    "cursor.execute(\"SELECT Payment_Mode, SUM(Amount) AS Total_Spent FROM Expenses WHERE Category = 'Travel' GROUP BY Payment_Mode;\")\n",
    "result5 = cursor.fetchall()\n",
    "df5 = pd.DataFrame(result5, columns=[\"Payment Mode\", \"Total Spent\"])\n",
    "print(\"\\n5. Spending on Transportation by Payment Mode:\")\n",
    "print(df5)"
   ]
  },
  {
   "cell_type": "code",
   "execution_count": 26,
   "metadata": {},
   "outputs": [
    {
     "name": "stdout",
     "output_type": "stream",
     "text": [
      "\n",
      "6. Transactions Resulting in Cashback:\n",
      "      ID   Date        Category       Payment Mode Description               Amount   Cashback\n",
      "0        1  2025-01-03     stationary   Netbanking  bought pencil from store  7391.00  214.60 \n",
      "1        2  2025-01-11    Investments  Credit Card               bought gold  8605.00  562.20 \n",
      "2        3  2025-01-02           rent  Credit Card           paid house rent   257.00  306.20 \n",
      "3        4  2025-01-10  entertainment         Cash    bought concert tickets  9959.00  330.10 \n",
      "4        5  2025-01-18          bills   Netbanking           paid water bill  2714.00  579.70 \n",
      "...    ...         ...            ...          ...                       ...      ...      ...\n",
      "1435  1436  2025-12-19    Investments  Credit Card       bought mutual funds  4648.00  242.10 \n",
      "1436  1437  2025-12-01  entertainment   Debit Card    bought concert tickets  1285.00  368.00 \n",
      "1437  1438  2025-12-08         travel         Cash      bought train tickets  7086.00  113.00 \n",
      "1438  1439  2025-12-17          other   Debit Card              bought gifts  6421.00  204.50 \n",
      "1439  1440  2025-12-10       shopping   Debit Card    bought shoes from mall  1677.00  293.70 \n",
      "\n",
      "[1440 rows x 7 columns]\n"
     ]
    }
   ],
   "source": [
    "# Query 6: Transactions resulting in cashback\n",
    "cursor.execute(\"SELECT * FROM Expenses WHERE Cashback > 0;\")\n",
    "result6 = cursor.fetchall()\n",
    "df6 = pd.DataFrame(result6, columns=[\"ID\", \"Date\", \"Category\", \"Payment Mode\", \"Description\", \"Amount\", \"Cashback\"])\n",
    "print(\"\\n6. Transactions Resulting in Cashback:\")\n",
    "print(df6)"
   ]
  },
  {
   "cell_type": "code",
   "execution_count": 27,
   "metadata": {},
   "outputs": [
    {
     "name": "stdout",
     "output_type": "stream",
     "text": [
      "\n",
      "7. Total Spending in Each Month:\n",
      "    Month Total Spent\n",
      "0    1     574382.00 \n",
      "1    2     592518.00 \n",
      "2    3     577551.00 \n",
      "3    4     571311.00 \n",
      "4    5     633845.00 \n",
      "5    6     629843.00 \n",
      "6    7     588539.00 \n",
      "7    8     575771.00 \n",
      "8    9     580666.00 \n",
      "9   10     621890.00 \n",
      "10  11     612541.00 \n",
      "11  12     624855.00 \n"
     ]
    }
   ],
   "source": [
    "# Query 7: Total spending in each month\n",
    "cursor.execute(\"SELECT MONTH(Date) AS Month, SUM(Amount) AS Total_Spent FROM Expenses GROUP BY Month ORDER BY Month;\")\n",
    "result7 = cursor.fetchall()\n",
    "df7 = pd.DataFrame(result7, columns=[\"Month\", \"Total Spent\"])\n",
    "print(\"\\n7. Total Spending in Each Month:\")\n",
    "print(df7)"
   ]
  },
  {
   "cell_type": "code",
   "execution_count": 28,
   "metadata": {},
   "outputs": [
    {
     "name": "stdout",
     "output_type": "stream",
     "text": [
      "\n",
      "8. Months with Highest Spending in Specific Categories:\n",
      "    Month Category       Total Spent\n",
      "0    2            travel  96777.00  \n",
      "1    6     entertainment  88810.00  \n",
      "2    3     entertainment  87000.00  \n",
      "3    8     entertainment  86661.00  \n",
      "4    4            travel  81205.00  \n",
      "5   12            travel  79487.00  \n",
      "6   10            travel  77053.00  \n",
      "7   11     entertainment  73586.00  \n",
      "8    6            travel  67457.00  \n",
      "9   11            travel  65468.00  \n",
      "10   7            travel  64818.00  \n",
      "11   9            travel  59522.00  \n",
      "12   5     entertainment  57605.00  \n",
      "13  12     entertainment  57403.00  \n",
      "14   1     entertainment  56727.00  \n",
      "15   3            travel  54510.00  \n",
      "16   4     entertainment  50347.00  \n",
      "17  10     entertainment  44887.00  \n",
      "18   2     entertainment  44884.00  \n",
      "19   5            travel  44286.00  \n",
      "20   7     entertainment  41227.00  \n",
      "21   8            travel  39583.00  \n",
      "22   9     entertainment  33756.00  \n",
      "23   1            travel  23981.00  \n"
     ]
    }
   ],
   "source": [
    "# Query 8: Months with highest spending in specific categories\n",
    "cursor.execute(\"\"\"\n",
    "    SELECT MONTH(Date) AS Month, Category, SUM(Amount) AS Total_Spent \n",
    "    FROM Expenses \n",
    "    WHERE Category IN ('Travel', 'Entertainment', 'Gifts') \n",
    "    GROUP BY Month, Category ORDER BY Total_Spent DESC;\n",
    "\"\"\")\n",
    "result8 = cursor.fetchall()\n",
    "df8 = pd.DataFrame(result8, columns=[\"Month\", \"Category\", \"Total Spent\"])\n",
    "print(\"\\n8. Months with Highest Spending in Specific Categories:\")\n",
    "print(df8)"
   ]
  },
  {
   "cell_type": "code",
   "execution_count": 29,
   "metadata": {},
   "outputs": [
    {
     "name": "stdout",
     "output_type": "stream",
     "text": [
      "\n",
      "9. Average Spending Per Transaction:\n",
      "Average Spending: ₹4,988.69\n"
     ]
    }
   ],
   "source": [
    "# Query 9: Average spending per transaction\n",
    "cursor.execute(\"SELECT AVG(Amount) AS Avg_Spending FROM Expenses;\")\n",
    "result9 = cursor.fetchone()\n",
    "print(\"\\n9. Average Spending Per Transaction:\")\n",
    "print(f\"Average Spending: ₹{result9[0]:,.2f}\")"
   ]
  },
  {
   "cell_type": "code",
   "execution_count": 30,
   "metadata": {},
   "outputs": [
    {
     "name": "stdout",
     "output_type": "stream",
     "text": [
      "\n",
      "10. Most Common Spending Day of the Week:\n",
      "Day: Tuesday, Transactions: 221\n"
     ]
    }
   ],
   "source": [
    "# Query 10: Most common spending day of the week\n",
    "cursor.execute(\"\"\"\n",
    "    SELECT DAYNAME(Date) AS Day, COUNT(*) AS Transactions \n",
    "    FROM Expenses \n",
    "    GROUP BY Day \n",
    "    ORDER BY Transactions DESC LIMIT 1;\n",
    "\"\"\")\n",
    "result10 = cursor.fetchone()\n",
    "print(\"\\n10. Most Common Spending Day of the Week:\")\n",
    "print(f\"Day: {result10[0]}, Transactions: {result10[1]}\")"
   ]
  },
  {
   "cell_type": "code",
   "execution_count": 31,
   "metadata": {},
   "outputs": [
    {
     "name": "stdout",
     "output_type": "stream",
     "text": [
      "\n",
      "11. Spending Trends by Day of the Week:\n",
      "  Day        Total Spent\n",
      "0     Sunday   953563.00\n",
      "1     Monday  1062264.00\n",
      "2    Tuesday  1085923.00\n",
      "3  Wednesday   944745.00\n",
      "4   Thursday  1090397.00\n",
      "5     Friday  1025423.00\n",
      "6   Saturday  1021397.00\n"
     ]
    }
   ],
   "source": [
    "# Query 11: Spending trends by day of the week\n",
    "cursor.execute(\"\"\"\n",
    "    SELECT DAYNAME(Date) AS Day, SUM(Amount) AS Total_Spent \n",
    "    FROM Expenses \n",
    "    GROUP BY Day \n",
    "    ORDER BY MIN(DAYOFWEEK(Date));\n",
    "\"\"\")\n",
    "result11 = cursor.fetchall()\n",
    "df11 = pd.DataFrame(result11, columns=[\"Day\", \"Total Spent\"])\n",
    "print(\"\\n11. Spending Trends by Day of the Week:\")\n",
    "print(df11)"
   ]
  },
  {
   "cell_type": "code",
   "execution_count": 32,
   "metadata": {},
   "outputs": [
    {
     "name": "stdout",
     "output_type": "stream",
     "text": [
      "\n",
      "12. Categories with Zero Spending:\n",
      "Empty DataFrame\n",
      "Columns: [Category]\n",
      "Index: []\n"
     ]
    }
   ],
   "source": [
    "# Query 12: Categories with zero spending\n",
    "cursor.execute(\"\"\"\n",
    "    SELECT Category \n",
    "    FROM (SELECT Category, SUM(Amount) AS Total_Spent FROM Expenses GROUP BY Category) AS subquery \n",
    "    WHERE Total_Spent = 0;\n",
    "\"\"\")\n",
    "result12 = cursor.fetchall()\n",
    "df12 = pd.DataFrame(result12, columns=[\"Category\"])\n",
    "print(\"\\n12. Categories with Zero Spending:\")\n",
    "print(df12)"
   ]
  },
  {
   "cell_type": "code",
   "execution_count": 33,
   "metadata": {},
   "outputs": [
    {
     "name": "stdout",
     "output_type": "stream",
     "text": [
      "\n",
      "13. Cashback Earned vs Total Spending:\n",
      "Cashback Percentage: 6.48%\n"
     ]
    }
   ],
   "source": [
    "# Query 13: Percentage of cashback earned vs total spending\n",
    "cursor.execute(\"SELECT SUM(Cashback) AS Total_Cashback, SUM(Amount) AS Total_Spent FROM Expenses;\")\n",
    "result13 = cursor.fetchone()\n",
    "cashback_percentage = (result13[0] / result13[1]) * 100\n",
    "print(\"\\n13. Cashback Earned vs Total Spending:\")\n",
    "print(f\"Cashback Percentage: {cashback_percentage:.2f}%\")"
   ]
  },
  {
   "cell_type": "code",
   "execution_count": 34,
   "metadata": {},
   "outputs": [
    {
     "name": "stdout",
     "output_type": "stream",
     "text": [
      "\n",
      "14. Highest Spending in a Single Transaction:\n",
      "   ID  Date        Category Payment Mode Description              Amount   Cashback\n",
      "0  530  2025-05-19  health   Netbanking   bought health insurance  9998.00  112.30 \n"
     ]
    }
   ],
   "source": [
    "# Query 14: Highest spending in a single transaction\n",
    "cursor.execute(\"SELECT * FROM Expenses ORDER BY Amount DESC LIMIT 1;\")\n",
    "result14 = cursor.fetchall()\n",
    "df14 = pd.DataFrame(result14, columns=[\"ID\", \"Date\", \"Category\", \"Payment Mode\", \"Description\", \"Amount\", \"Cashback\"])\n",
    "print(\"\\n14. Highest Spending in a Single Transaction:\")\n",
    "print(df14)       "
   ]
  },
  {
   "cell_type": "code",
   "execution_count": 35,
   "metadata": {},
   "outputs": [
    {
     "name": "stdout",
     "output_type": "stream",
     "text": [
      "\n",
      "15. Spending Trends for Recurring Expenses:\n",
      "    Month Category     Total Spent\n",
      "0    1           bills   57460.00 \n",
      "1    1     Investments   78242.00 \n",
      "2    1            rent   74797.00 \n",
      "3    2           bills   61883.00 \n",
      "4    2     Investments   93532.00 \n",
      "5    2            rent   48544.00 \n",
      "6    3           bills   70996.00 \n",
      "7    3     Investments   32045.00 \n",
      "8    3            rent   51713.00 \n",
      "9    4           bills   77375.00 \n",
      "10   4     Investments   35091.00 \n",
      "11   4            rent   33900.00 \n",
      "12   5           bills   70224.00 \n",
      "13   5     Investments   62862.00 \n",
      "14   5            rent   79676.00 \n",
      "15   6           bills   22757.00 \n",
      "16   6     Investments   70370.00 \n",
      "17   6            rent   50863.00 \n",
      "18   7           bills   45938.00 \n",
      "19   7     Investments  110331.00 \n",
      "20   7            rent   36527.00 \n",
      "21   8           bills   69408.00 \n",
      "22   8     Investments   86334.00 \n",
      "23   8            rent  112535.00 \n",
      "24   9           bills   55937.00 \n",
      "25   9     Investments   65736.00 \n",
      "26   9            rent   41677.00 \n",
      "27  10           bills   27856.00 \n",
      "28  10     Investments   49797.00 \n",
      "29  10            rent   62416.00 \n",
      "30  11           bills   47011.00 \n",
      "31  11     Investments   72538.00 \n",
      "32  11            rent   89412.00 \n",
      "33  12           bills   65724.00 \n",
      "34  12     Investments   40122.00 \n",
      "35  12            rent   73681.00 \n"
     ]
    }
   ],
   "source": [
    "# Query 15: Spending trends for recurring expenses\n",
    "cursor.execute(\"\"\"\n",
    "    SELECT MONTH(Date) AS Month, Category, SUM(Amount) AS Total_Spent \n",
    "    FROM Expenses \n",
    "    WHERE Category IN ('Rent', 'Bills', 'Investments') \n",
    "    GROUP BY Month, Category \n",
    "    ORDER BY Month;\n",
    "\"\"\")\n",
    "result15 = cursor.fetchall()\n",
    "df15 = pd.DataFrame(result15, columns=[\"Month\", \"Category\", \"Total Spent\"])\n",
    "print(\"\\n15. Spending Trends for Recurring Expenses:\")\n",
    "print(df15)       "
   ]
  },
  {
   "cell_type": "code",
   "execution_count": 36,
   "metadata": {},
   "outputs": [
    {
     "name": "stdout",
     "output_type": "stream",
     "text": [
      "\n",
      "16. Smallest Transaction by Amount:\n",
      "   ID Date        Category  Payment Mode Description             Amount  Cashback\n",
      "0  19  2025-01-19  shopping  Debit Card   bought shoes from mall  103.00  374.20 \n"
     ]
    }
   ],
   "source": [
    "# Query 16: Smallest transaction by amount\n",
    "cursor.execute(\"SELECT * FROM Expenses ORDER BY Amount ASC LIMIT 1;\")\n",
    "result16 = cursor.fetchall()\n",
    "df16 = pd.DataFrame(result16, columns=[\"ID\", \"Date\", \"Category\", \"Payment Mode\", \"Description\", \"Amount\", \"Cashback\"])\n",
    "print(\"\\n16. Smallest Transaction by Amount:\")\n",
    "print(df16)"
   ]
  },
  {
   "cell_type": "code",
   "execution_count": 37,
   "metadata": {},
   "outputs": [
    {
     "name": "stdout",
     "output_type": "stream",
     "text": [
      "\n",
      "17. Spending Distribution for Weekend vs Weekday:\n",
      "  Day Type Total Spent\n",
      "0  Weekday  5208752.00\n",
      "1  Weekend  1974960.00\n"
     ]
    }
   ],
   "source": [
    "# Query 17: Spending distribution for weekend vs weekday\n",
    "cursor.execute(\"\"\"\n",
    "    SELECT CASE \n",
    "        WHEN DAYOFWEEK(Date) IN (1, 7) THEN 'Weekend'\n",
    "        ELSE 'Weekday'\n",
    "    END AS Day_Type, SUM(Amount) AS Total_Spent \n",
    "    FROM Expenses \n",
    "    GROUP BY Day_Type;\n",
    "\"\"\")\n",
    "result17 = cursor.fetchall()\n",
    "df17 = pd.DataFrame(result17, columns=[\"Day Type\", \"Total Spent\"])\n",
    "print(\"\\n17. Spending Distribution for Weekend vs Weekday:\")\n",
    "print(df17)"
   ]
  },
  {
   "cell_type": "code",
   "execution_count": 38,
   "metadata": {},
   "outputs": [
    {
     "name": "stdout",
     "output_type": "stream",
     "text": [
      "\n",
      "18. Highest Cashback Earned in a Single Transaction:\n",
      "   ID  Date        Category  Payment Mode Description             Amount   Cashback\n",
      "0  807  2025-07-01  shopping  Debit Card   bought shoes from mall  6594.00  598.70 \n"
     ]
    }
   ],
   "source": [
    "# Query 18: Highest cashback earned in a single transaction\n",
    "cursor.execute(\"SELECT * FROM Expenses ORDER BY Cashback DESC LIMIT 1;\")\n",
    "result18 = cursor.fetchall()\n",
    "df18 = pd.DataFrame(result18, columns=[\"ID\", \"Date\", \"Category\", \"Payment Mode\", \"Description\", \"Amount\", \"Cashback\"])\n",
    "print(\"\\n18. Highest Cashback Earned in a Single Transaction:\")\n",
    "print(df18)\n"
   ]
  },
  {
   "cell_type": "code",
   "execution_count": 39,
   "metadata": {},
   "outputs": [
    {
     "name": "stdout",
     "output_type": "stream",
     "text": [
      "\n",
      "Connection closed.\n"
     ]
    }
   ],
   "source": [
    "try:\n",
    "    # Your code here\n",
    "    pass  # Replace this with the actual code that might raise an error\n",
    "\n",
    "except Error as e:\n",
    "    print(f\"Error: {e}\")\n",
    "\n",
    "finally:\n",
    "    if connection.is_connected():\n",
    "        cursor.close()\n",
    "        connection.close()\n",
    "        print(\"\\nConnection closed.\")"
   ]
  }
 ],
 "metadata": {
  "kernelspec": {
   "display_name": "Python 3",
   "language": "python",
   "name": "python3"
  },
  "language_info": {
   "codemirror_mode": {
    "name": "ipython",
    "version": 3
   },
   "file_extension": ".py",
   "mimetype": "text/x-python",
   "name": "python",
   "nbconvert_exporter": "python",
   "pygments_lexer": "ipython3",
   "version": "3.13.1"
  }
 },
 "nbformat": 4,
 "nbformat_minor": 2
}
