{
 "cells": [
  {
   "cell_type": "code",
   "execution_count": 2,
   "metadata": {},
   "outputs": [],
   "source": [
    "from mysql.connector import connect, Error\n",
    "import pandas as pd\n",
    "from faker import Faker\n",
    "import random"
   ]
  },
  {
   "cell_type": "code",
   "execution_count": 3,
   "metadata": {},
   "outputs": [],
   "source": [
    "#initialize faker\n",
    "fake = Faker()"
   ]
  },
  {
   "cell_type": "code",
   "execution_count": 4,
   "metadata": {},
   "outputs": [],
   "source": [
    "categories = [\"Groceries\", \"stationary\", \"shopping\", \"entertainment\", \"travel\", \"health\", \"bills\", \"rent\", \"Investments\", \"other\"]\n",
    "payment_modes = [\"Cash\", \"Debit Card\", \"UPI\", \"Netbanking\", \"Credit Card\"]\n",
    "\n",
    "descriptions = {\n",
    "    \"Groceries\": [\n",
    "        \"bought fruits from Mart\",\n",
    "        \"bought vegetables from Mart\",\n",
    "        \"bought meat from store\",\n",
    "        \"bought some households from store\"\n",
    "    ],\n",
    "    \"stationary\": [\n",
    "        \"bought pen from store\",\n",
    "        \"bought notebook from store\",\n",
    "        \"bought pencil from store\",\n",
    "        \"bought scissors from store\"\n",
    "    ],\n",
    "    \"shopping\": [\n",
    "        \"bought clothes from mall\",\n",
    "        \"bought shoes from mall\",\n",
    "        \"bought accessories from mall\",\n",
    "        \"bought bags from mall\"\n",
    "    ],\n",
    "    \"entertainment\": [\n",
    "        \"bought movie tickets\",\n",
    "        \"bought concert tickets\",\n",
    "        \"bought event tickets\",\n",
    "        \"bought party tickets\"\n",
    "    ],\n",
    "    \"travel\": [\n",
    "        \"bought flight tickets\",\n",
    "        \"bought train tickets\",\n",
    "        \"bought bus tickets\",\n",
    "        \"bought taxi tickets\"\n",
    "    ],\n",
    "    \"health\": [\n",
    "        \"bought medicines\",\n",
    "        \"bought supplements\",\n",
    "        \"health checkup expenses\",\n",
    "        \"bought health insurance\"\n",
    "    ],\n",
    "    \"bills\": [\n",
    "        \"paid electricity bill\",\n",
    "        \"paid water bill\",\n",
    "        \"paid internet bill\",\n",
    "        \"paid phone bill\"\n",
    "    ],\n",
    "    \"rent\": [\n",
    "        \"paid house rent\"\n",
    "    ],\n",
    "    \"Investments\": [\n",
    "        \"bought stocks\",\n",
    "        \"bought mutual funds\",\n",
    "        \"bought gold\",\n",
    "        \"bought silver\"\n",
    "    ],\n",
    "    \"other\": [\n",
    "        \"bought gifts\",\n",
    "        \"bought gadgets\"\n",
    "    ]\n",
    "}"
   ]
  },
  {
   "cell_type": "code",
   "execution_count": 5,
   "metadata": {},
   "outputs": [],
   "source": [
    "connection = connect(\n",
    "    host=\"localhost\",\n",
    "    user=\"root\",  # Replace with your MySQL username\n",
    "    password=\"Jashu@123\",  # Replace with your MySQL password\n",
    ")\n",
    "cursor = connection.cursor()"
   ]
  },
  {
   "cell_type": "code",
   "execution_count": 6,
   "metadata": {},
   "outputs": [],
   "source": [
    "connection.reconnect()"
   ]
  },
  {
   "cell_type": "code",
   "execution_count": 64,
   "metadata": {},
   "outputs": [
    {
     "data": {
      "text/plain": [
       "<generator object CMySQLCursor._execute_iter at 0x0000026F51CB7E20>"
      ]
     },
     "execution_count": 64,
     "metadata": {},
     "output_type": "execute_result"
    }
   ],
   "source": [
    "# Create a new database and table for storing expenses\n",
    "create_db_query = \"\"\"\n",
    "CREATE DATABASE IF NOT EXISTS ExpenseDB;\n",
    "USE ExpenseDB;\n",
    "CREATE TABLE IF NOT EXISTS Expenses (\n",
    "    id INT AUTO_INCREMENT PRIMARY KEY,\n",
    "    Date DATE,\n",
    "    Category VARCHAR(50),\n",
    "    Payment_Mode VARCHAR(50),\n",
    "    Description TEXT,\n",
    "    Amount DECIMAL(10, 2)\n",
    ");\n",
    "\"\"\"\n",
    "\n",
    "# Reconnect to the database if not connected\n",
    "if not connection.is_connected():\n",
    "    connection.reconnect()\n",
    "\n",
    "# Execute the query\n",
    "cursor.execute(create_db_query, multi=True)\n"
   ]
  },
  {
   "cell_type": "code",
   "execution_count": 65,
   "metadata": {},
   "outputs": [],
   "source": [
    "# Function to generate data for each month\n",
    "def gen_exp_data_per_month():\n",
    "    exp_data_per_month = {}\n",
    "    for month in range(1, 13):\n",
    "        month_str = f\"2025-{month:02d}\"\n",
    "        data = []\n",
    "        for _ in range(120):\n",
    "            category = random.choice(categories)\n",
    "            date = fake.date_this_year(before_today=True, after_today=True)\n",
    "            while date.month != month:\n",
    "                date = fake.date_this_year(before_today=True, after_today=True)  # Ensure correct month\n",
    "            expense = {\n",
    "                \"Date\": date,\n",
    "                \"Category\": category,\n",
    "                \"Payment_Mode\": random.choice(payment_modes),\n",
    "                \"Description\": random.choice(descriptions[category]),\n",
    "                \"Amount\": random.randint(100, 10000),\n",
    "            }\n",
    "            data.append(expense)\n",
    "        exp_data_per_month[month_str] = pd.DataFrame(data)\n",
    "    return exp_data_per_month\n",
    "\n",
    "exp_data_per_month = gen_exp_data_per_month()"
   ]
  },
  {
   "cell_type": "code",
   "execution_count": 95,
   "metadata": {},
   "outputs": [],
   "source": [
    "# MySQL connection and data insertion\n",
    "try:\n",
    "    connection = connect(\n",
    "        host=\"localhost\",\n",
    "        user=\"root\",  # Replace with your MySQL username\n",
    "        password=\"Jashu@123\",  # Replace with your MySQL password\n",
    "        database=\"ExpenseDB\"\n",
    "    )\n",
    "    cursor = connection.cursor()\n",
    "except Error as e:\n",
    "    print(f\"Error occurred: {e}\")"
   ]
  },
  {
   "cell_type": "code",
   "execution_count": 67,
   "metadata": {},
   "outputs": [
    {
     "name": "stdout",
     "output_type": "stream",
     "text": [
      "Inserting data for month: 2025-01\n",
      "Data for month 2025-01 inserted successfully.\n",
      "Inserting data for month: 2025-02\n",
      "Data for month 2025-02 inserted successfully.\n",
      "Inserting data for month: 2025-03\n",
      "Data for month 2025-03 inserted successfully.\n",
      "Inserting data for month: 2025-04\n",
      "Data for month 2025-04 inserted successfully.\n",
      "Inserting data for month: 2025-05\n",
      "Data for month 2025-05 inserted successfully.\n",
      "Inserting data for month: 2025-06\n",
      "Data for month 2025-06 inserted successfully.\n",
      "Inserting data for month: 2025-07\n",
      "Data for month 2025-07 inserted successfully.\n",
      "Inserting data for month: 2025-08\n",
      "Data for month 2025-08 inserted successfully.\n",
      "Inserting data for month: 2025-09\n",
      "Data for month 2025-09 inserted successfully.\n",
      "Inserting data for month: 2025-10\n",
      "Data for month 2025-10 inserted successfully.\n",
      "Inserting data for month: 2025-11\n",
      "Data for month 2025-11 inserted successfully.\n",
      "Inserting data for month: 2025-12\n",
      "Data for month 2025-12 inserted successfully.\n",
      "Connection closed.\n"
     ]
    }
   ],
   "source": [
    "insert_query = \"\"\"\n",
    "    INSERT INTO Expenses (Date, Category, Payment_Mode, Description, Amount)\n",
    "    VALUES (%s, %s, %s, %s, %s)\n",
    "    \"\"\"\n",
    "\n",
    "try:\n",
    "    for month, df in exp_data_per_month.items():\n",
    "        if not df.empty:  # Check if DataFrame is not empty\n",
    "            print(f\"Inserting data for month: {month}\")\n",
    "            data_to_insert = df.to_records(index=False).tolist()\n",
    "            cursor.executemany(insert_query, data_to_insert)  # Insert data in batches\n",
    "            connection.commit()  # Commit after each month\n",
    "            print(f\"Data for month {month} inserted successfully.\")\n",
    "\n",
    "finally:\n",
    "    if connection.is_connected():\n",
    "        cursor.close()\n",
    "        connection.close()\n",
    "        print(\"Connection closed.\")\n"
   ]
  },
  {
   "cell_type": "code",
   "execution_count": 7,
   "metadata": {},
   "outputs": [],
   "source": [
    "# Set Pandas display options to show wide tables in one line\n",
    "pd.set_option('display.max_columns', None)   # Show all columns\n",
    "pd.set_option('display.width', 1000)         # Increase display width\n",
    "pd.set_option('display.colheader_justify', 'left')  # Center align column headers"
   ]
  },
  {
   "cell_type": "code",
   "execution_count": 8,
   "metadata": {},
   "outputs": [
    {
     "name": "stdout",
     "output_type": "stream",
     "text": [
      "Successfully connected to the database.\n"
     ]
    }
   ],
   "source": [
    "# Connect to MySQL database\n",
    "try:\n",
    "    connection = connect(\n",
    "        host=\"localhost\",\n",
    "        user=\"root\",       # Replace with your username\n",
    "        password=\"Jashu@123\",   # Replace with your password\n",
    "        database=\"ExpenseDB\"        # Replace with your database name\n",
    "    )\n",
    "    if connection.is_connected():\n",
    "        cursor = connection.cursor()\n",
    "        print(\"Successfully connected to the database.\")\n",
    "except Error as e:\n",
    "    print(f\"Error occurred: {e}\")"
   ]
  },
  {
   "cell_type": "code",
   "execution_count": 9,
   "metadata": {},
   "outputs": [
    {
     "name": "stdout",
     "output_type": "stream",
     "text": [
      "1. Total Amount Spent in Each Category:\n",
      "  Category       Total_Spent\n",
      "0      Groceries  893896.00 \n",
      "1         travel  728203.00 \n",
      "2  entertainment  722465.00 \n",
      "3       shopping  720119.00 \n",
      "4          bills  706848.00 \n",
      "5     stationary  702537.00 \n",
      "6         health  671190.00 \n",
      "7          other  660460.00 \n",
      "8    Investments  640509.00 \n",
      "9           rent  635856.00 \n"
     ]
    }
   ],
   "source": [
    "# 1. Total Amount Spent in Each Category\n",
    "query1 = \"SELECT Category, SUM(Amount) AS Total_Spent FROM Expenses GROUP BY Category ORDER BY Total_Spent DESC;\"\n",
    "cursor.execute(query1)\n",
    "result1 = cursor.fetchall()\n",
    "print(\"1. Total Amount Spent in Each Category:\")\n",
    "print(pd.DataFrame(result1, columns=['Category', 'Total_Spent']))"
   ]
  },
  {
   "cell_type": "code",
   "execution_count": 74,
   "metadata": {},
   "outputs": [
    {
     "name": "stdout",
     "output_type": "stream",
     "text": [
      "\n",
      "2. Monthly Expense Summary:\n",
      "   Month    Total_Spent\n",
      "0   2025-01  584672.00 \n",
      "1   2025-02  581060.00 \n",
      "2   2025-03  538057.00 \n",
      "3   2025-04  588217.00 \n",
      "4   2025-05  658115.00 \n",
      "5   2025-06  595013.00 \n",
      "6   2025-07  646903.00 \n",
      "7   2025-08  515017.00 \n",
      "8   2025-09  629936.00 \n",
      "9   2025-10  606460.00 \n",
      "10  2025-11  555133.00 \n",
      "11  2025-12  583500.00 \n"
     ]
    }
   ],
   "source": [
    "# 2. Monthly Expense Summary\n",
    "query2 = \"SELECT DATE_FORMAT(Date, '%Y-%m') AS Month, SUM(Amount) AS Total_Spent FROM Expenses GROUP BY Month ORDER BY Month;\"\n",
    "cursor.execute(query2)\n",
    "result2 = cursor.fetchall()\n",
    "print(\"\\n2. Monthly Expense Summary:\")\n",
    "print(pd.DataFrame(result2, columns=['Month', 'Total_Spent']))\n"
   ]
  },
  {
   "cell_type": "code",
   "execution_count": 75,
   "metadata": {},
   "outputs": [
    {
     "name": "stdout",
     "output_type": "stream",
     "text": [
      "Top 5 Most Expensive Transactions:\n",
      "   id   Date        Category    Payment_Mode Description            Amount   \n",
      "0    33  2025-01-18        rent          UPI        paid house rent  10000.00\n",
      "1    99  2025-01-29  stationary  Credit Card  bought pen from store   9997.00\n",
      "2   325  2025-03-07  stationary   Debit Card  bought pen from store   9978.00\n",
      "3  1143  2025-10-12      travel         Cash     bought bus tickets   9973.00\n",
      "4  1026  2025-09-12    shopping   Netbanking  bought bags from mall   9962.00\n"
     ]
    }
   ],
   "source": [
    "# 3. Top 5 Most Expensive Transactions\n",
    "query3 = \"SELECT * FROM Expenses ORDER BY Amount DESC LIMIT 5;\"\n",
    "cursor.execute(query3)\n",
    "result3 = cursor.fetchall()\n",
    "print(\"Top 5 Most Expensive Transactions:\")\n",
    "print(pd.DataFrame(result3, columns=['id', 'Date', 'Category', 'Payment_Mode', 'Description', 'Amount']))"
   ]
  },
  {
   "cell_type": "code",
   "execution_count": 76,
   "metadata": {},
   "outputs": [
    {
     "name": "stdout",
     "output_type": "stream",
     "text": [
      "\n",
      "4. Average Spending by Payment Mode:\n",
      "  Payment_Mode Avg_Spending\n",
      "0   Netbanking  4820.544025\n",
      "1         Cash  5100.784512\n",
      "2  Credit Card  4669.921348\n",
      "3   Debit Card  4967.808429\n",
      "4          UPI  5019.360269\n"
     ]
    }
   ],
   "source": [
    "# 4. Average Spending by Payment Mode\n",
    "query4 = \"SELECT Payment_Mode, AVG(Amount) AS Avg_Spending FROM Expenses GROUP BY Payment_Mode;\"\n",
    "cursor.execute(query4)\n",
    "result4 = cursor.fetchall()\n",
    "print(\"\\n4. Average Spending by Payment Mode:\")\n",
    "print(pd.DataFrame(result4, columns=['Payment_Mode', 'Avg_Spending']))"
   ]
  },
  {
   "cell_type": "code",
   "execution_count": 77,
   "metadata": {},
   "outputs": [
    {
     "name": "stdout",
     "output_type": "stream",
     "text": [
      "\n",
      "5. Number of Transactions per Category:\n",
      "  Category        Num_Transactions\n",
      "0      Groceries  179             \n",
      "1       shopping  150             \n",
      "2         travel  147             \n",
      "3          bills  147             \n",
      "4     stationary  141             \n",
      "5          other  140             \n",
      "6    Investments  138             \n",
      "7  entertainment  138             \n",
      "8         health  135             \n",
      "9           rent  125             \n"
     ]
    }
   ],
   "source": [
    "# 5. Number of Transactions per Category\n",
    "query5 = \"SELECT Category, COUNT(*) AS Num_Transactions FROM Expenses GROUP BY Category ORDER BY Num_Transactions DESC;\"\n",
    "cursor.execute(query5)\n",
    "result5 = cursor.fetchall()\n",
    "print(\"\\n5. Number of Transactions per Category:\")\n",
    "print(pd.DataFrame(result5, columns=['Category', 'Num_Transactions']))"
   ]
  },
  {
   "cell_type": "code",
   "execution_count": 78,
   "metadata": {},
   "outputs": [
    {
     "name": "stdout",
     "output_type": "stream",
     "text": [
      "\n",
      "6. Most Frequently Used Payment Mode:\n"
     ]
    }
   ],
   "source": [
    "# 6. Most Frequently Used Payment Mode\n",
    "query6 = \"SELECT Payment_Mode, COUNT(*) AS Usage_Count FROM Expenses GROUP BY Payment_Mode ORDER BY Usage_Count DESC LIMIT 1;\"\n",
    "cursor.execute(query6)\n",
    "result6 = cursor.fetchall()\n",
    "print(\"\\n6. Most Frequently Used Payment Mode:\")"
   ]
  },
  {
   "cell_type": "code",
   "execution_count": 79,
   "metadata": {},
   "outputs": [
    {
     "name": "stdout",
     "output_type": "stream",
     "text": [
      "\n",
      "7. Total Spending for december:\n",
      "  Total_Spent_december\n",
      "0  629936.00          \n"
     ]
    }
   ],
   "source": [
    "# 7. Total Spending for a Specific Month (e.g., December 2025)\n",
    "query7 = \"SELECT SUM(Amount) AS Total_Spent_december FROM Expenses WHERE DATE_FORMAT(Date, '%Y-%m') = '2025-09';\"\n",
    "cursor.execute(query7)\n",
    "result7 = cursor.fetchall()\n",
    "print(\"\\n7. Total Spending for december:\")\n",
    "print(pd.DataFrame(result7, columns=['Total_Spent_december']))"
   ]
  },
  {
   "cell_type": "code",
   "execution_count": 81,
   "metadata": {},
   "outputs": [
    {
     "name": "stdout",
     "output_type": "stream",
     "text": [
      "\n",
      "8. Categories with Spending Above 50,000:\n",
      "  Category       Total_Spent\n",
      "0      Groceries  893896.00 \n",
      "1         travel  728203.00 \n",
      "2  entertainment  722465.00 \n",
      "3       shopping  720119.00 \n",
      "4          bills  706848.00 \n",
      "5     stationary  702537.00 \n",
      "6         health  671190.00 \n",
      "7          other  660460.00 \n",
      "8    Investments  640509.00 \n",
      "9           rent  635856.00 \n"
     ]
    }
   ],
   "source": [
    "# 8. Categories with Spending Above a Certain Threshold\n",
    "query8 = \"SELECT Category, SUM(Amount) AS Total_Spent FROM Expenses GROUP BY Category HAVING Total_Spent > 50000 ORDER BY Total_Spent DESC;\"\n",
    "cursor.execute(query8)\n",
    "result8 = cursor.fetchall()\n",
    "print(\"\\n8. Categories with Spending Above 50,000:\")\n",
    "print(pd.DataFrame(result8, columns=['Category', 'Total_Spent']))"
   ]
  },
  {
   "cell_type": "code",
   "execution_count": 82,
   "metadata": {},
   "outputs": [
    {
     "name": "stdout",
     "output_type": "stream",
     "text": [
      "\n",
      "9. Daily Expense Trend:\n",
      "    Date        Total_Spent\n",
      "0    2025-01-01  12235.00  \n",
      "1    2025-01-02  23685.00  \n",
      "2    2025-01-03   3161.00  \n",
      "3    2025-01-04  30281.00  \n",
      "4    2025-01-05  14074.00  \n",
      "..          ...         ...\n",
      "354  2025-12-26  18119.00  \n",
      "355  2025-12-27   6906.00  \n",
      "356  2025-12-28  14379.00  \n",
      "357  2025-12-30  13647.00  \n",
      "358  2025-12-31  15284.00  \n",
      "\n",
      "[359 rows x 2 columns]\n"
     ]
    }
   ],
   "source": [
    "# 9. Daily Expense Trend\n",
    "query9 = \"SELECT Date, SUM(Amount) AS Total_Spent FROM Expenses GROUP BY Date ORDER BY Date ;\"\n",
    "cursor.execute(query9)\n",
    "result9 = cursor.fetchall()\n",
    "print(\"\\n9. Daily Expense Trend:\")\n",
    "print(pd.DataFrame(result9, columns=['Date', 'Total_Spent']))"
   ]
  },
  {
   "cell_type": "code",
   "execution_count": 84,
   "metadata": {},
   "outputs": [
    {
     "name": "stdout",
     "output_type": "stream",
     "text": [
      "\n",
      "10. Highest Spending Day:\n",
      "  Date        Total_Spent\n",
      "0  2025-11-06  51499.00  \n"
     ]
    }
   ],
   "source": [
    "# 10. Highest Spending Day\n",
    "query10 = \"SELECT Date, SUM(Amount) AS Total_Spent FROM Expenses GROUP BY Date ORDER BY Total_Spent DESC LIMIT 1;\"\n",
    "cursor.execute(query10)\n",
    "result10 = cursor.fetchall()\n",
    "print(\"\\n10. Highest Spending Day:\")\n",
    "print(pd.DataFrame(result10, columns=['Date', 'Total_Spent']))\n"
   ]
  },
  {
   "cell_type": "code",
   "execution_count": 85,
   "metadata": {},
   "outputs": [
    {
     "name": "stdout",
     "output_type": "stream",
     "text": [
      "\n",
      "11. Spending Breakdown by Description:\n",
      "   Description                        Total_Spent\n",
      "0                     paid house rent  635856.00 \n",
      "1                        bought gifts  358804.00 \n",
      "2                      bought gadgets  301656.00 \n",
      "3              bought meat from store  234096.00 \n",
      "4         bought vegetables from Mart  228898.00 \n",
      "5             bought fruits from Mart  218398.00 \n",
      "6             health checkup expenses  217191.00 \n",
      "7   bought some households from store  212504.00 \n",
      "8          bought scissors from store  209588.00 \n",
      "9               bought bags from mall  209581.00 \n",
      "10                    paid phone bill  206743.00 \n",
      "11                 bought bus tickets  205382.00 \n",
      "12               bought event tickets  199909.00 \n",
      "13               bought movie tickets  196248.00 \n",
      "14           bought clothes from mall  192404.00 \n",
      "15            bought health insurance  192328.00 \n",
      "16                      bought stocks  190285.00 \n",
      "17             bought concert tickets  188650.00 \n",
      "18              paid electricity bill  184558.00 \n",
      "19                bought taxi tickets  184527.00 \n",
      "20              bought pen from store  182370.00 \n",
      "21                    paid water bill  182154.00 \n",
      "22               bought train tickets  181477.00 \n",
      "23             bought shoes from mall  175406.00 \n",
      "24                        bought gold  175229.00 \n",
      "25                 bought supplements  168676.00 \n",
      "26         bought notebook from store  167467.00 \n",
      "27                bought mutual funds  159522.00 \n",
      "28              bought flight tickets  156817.00 \n",
      "29           bought pencil from store  143112.00 \n",
      "30       bought accessories from mall  142728.00 \n",
      "31               bought party tickets  137658.00 \n",
      "32                 paid internet bill  133393.00 \n",
      "33                      bought silver  115473.00 \n",
      "34                   bought medicines   92995.00 \n"
     ]
    }
   ],
   "source": [
    "# 11. Spending Breakdown by Description\n",
    "query11 = \"SELECT Description, SUM(Amount) AS Total_Spent FROM Expenses GROUP BY Description ORDER BY Total_Spent DESC;\"\n",
    "cursor.execute(query11)\n",
    "result11 = cursor.fetchall()\n",
    "print(\"\\n11. Spending Breakdown by Description:\")\n",
    "print(pd.DataFrame(result11, columns=['Description', 'Total_Spent']))"
   ]
  },
  {
   "cell_type": "code",
   "execution_count": 86,
   "metadata": {},
   "outputs": [
    {
     "name": "stdout",
     "output_type": "stream",
     "text": [
      "\n",
      "12. Category with the Lowest Spending:\n",
      "  Category Total_Spent\n",
      "0  rent     635856.00 \n"
     ]
    }
   ],
   "source": [
    "# 12. Find the Category with the Lowest Spending\n",
    "query12 = \"SELECT Category, SUM(Amount) AS Total_Spent FROM Expenses GROUP BY Category ORDER BY Total_Spent ASC LIMIT 1;\"\n",
    "cursor.execute(query12)\n",
    "result12 = cursor.fetchall()\n",
    "print(\"\\n12. Category with the Lowest Spending:\")\n",
    "print(pd.DataFrame(result12, columns=['Category', 'Total_Spent']))"
   ]
  },
  {
   "cell_type": "code",
   "execution_count": 87,
   "metadata": {},
   "outputs": [
    {
     "name": "stdout",
     "output_type": "stream",
     "text": [
      "\n",
      "13. Total Spending by Quarter:\n",
      "   Quarter Total_Spent\n",
      "0  1        1703789.00\n",
      "1  2        1841345.00\n",
      "2  3        1791856.00\n",
      "3  4        1745093.00\n"
     ]
    }
   ],
   "source": [
    "# 13. Total Spending by Quarter\n",
    "query13 = \"SELECT QUARTER(Date) AS Quarter, SUM(Amount) AS Total_Spent FROM Expenses GROUP BY Quarter ORDER BY Quarter;\"\n",
    "cursor.execute(query13)\n",
    "result13 = cursor.fetchall()\n",
    "print(\"\\n13. Total Spending by Quarter:\")\n",
    "print(pd.DataFrame(result13, columns=['Quarter', 'Total_Spent']))"
   ]
  },
  {
   "cell_type": "code",
   "execution_count": 88,
   "metadata": {},
   "outputs": [
    {
     "name": "stdout",
     "output_type": "stream",
     "text": [
      "\n",
      "14. Most Common Description:\n",
      "  Description       Occurrences\n",
      "0  paid house rent  125        \n"
     ]
    }
   ],
   "source": [
    "# 14. Identify the Most Common Description\n",
    "query14 = \"SELECT Description, COUNT(*) AS Occurrences FROM Expenses GROUP BY Description ORDER BY Occurrences DESC LIMIT 1;\"\n",
    "cursor.execute(query14)\n",
    "result14 = cursor.fetchall()\n",
    "print(\"\\n14. Most Common Description:\")\n",
    "print(pd.DataFrame(result14, columns=['Description', 'Occurrences']))       "
   ]
  },
  {
   "cell_type": "code",
   "execution_count": 89,
   "metadata": {},
   "outputs": [
    {
     "name": "stdout",
     "output_type": "stream",
     "text": [
      "\n",
      "15. Spending Comparison (Cash vs Credit Card):\n",
      "  Payment_Mode Total_Spent\n",
      "0         Cash  1514933.00\n",
      "1  Credit Card  1246869.00\n"
     ]
    }
   ],
   "source": [
    "# 15. Spending Comparison: Cash vs Credit Card\n",
    "query15 = \"SELECT Payment_Mode, SUM(Amount) AS Total_Spent FROM Expenses WHERE Payment_Mode IN ('Cash', 'Credit Card') GROUP BY Payment_Mode;\"\n",
    "cursor.execute(query15)\n",
    "result15 = cursor.fetchall()\n",
    "print(\"\\n15. Spending Comparison (Cash vs Credit Card):\")\n",
    "print(pd.DataFrame(result15, columns=['Payment_Mode', 'Total_Spent']))       "
   ]
  },
  {
   "cell_type": "code",
   "execution_count": 90,
   "metadata": {},
   "outputs": [
    {
     "name": "stdout",
     "output_type": "stream",
     "text": [
      "\n",
      "16. Least Used Payment Mode:\n",
      "  Payment_Mode  Usage_Count\n",
      "0  Debit Card   261        \n"
     ]
    }
   ],
   "source": [
    "# 16. Identify the Least Used Payment Mode\n",
    "query16 = \"SELECT Payment_Mode, COUNT(*) AS Usage_Count FROM Expenses GROUP BY Payment_Mode ORDER BY Usage_Count ASC LIMIT 1;\"\n",
    "cursor.execute(query16)\n",
    "result16 = cursor.fetchall()\n",
    "print(\"\\n16. Least Used Payment Mode:\")\n",
    "print(pd.DataFrame(result16, columns=['Payment_Mode', 'Usage_Count']))"
   ]
  },
  {
   "cell_type": "code",
   "execution_count": 10,
   "metadata": {},
   "outputs": [
    {
     "name": "stdout",
     "output_type": "stream",
     "text": [
      "\n",
      "17. Monthly Spending in the 'Travel' Category:\n",
      "   Month    Total_Spent\n",
      "0   2025-01  95392.00  \n",
      "1   2025-02  52848.00  \n",
      "2   2025-03  71546.00  \n",
      "3   2025-04  80537.00  \n",
      "4   2025-05  59503.00  \n",
      "5   2025-06  68350.00  \n",
      "6   2025-07  59726.00  \n",
      "7   2025-08  57868.00  \n",
      "8   2025-09  46329.00  \n",
      "9   2025-10  49288.00  \n",
      "10  2025-11  34710.00  \n",
      "11  2025-12  52106.00  \n"
     ]
    }
   ],
   "source": [
    "# 17. Monthly Spending in the 'Travel' Category\n",
    "query17 = \"SELECT DATE_FORMAT(Date, '%Y-%m') AS Month, SUM(Amount) AS Total_Spent FROM Expenses WHERE Category = 'Travel' GROUP BY Month ORDER BY Month;\"\n",
    "cursor.execute(query17)\n",
    "result17 = cursor.fetchall()\n",
    "print(\"\\n17. Monthly Spending in the 'Travel' Category:\")\n",
    "print(pd.DataFrame(result17, columns=['Month', 'Total_Spent']))"
   ]
  },
  {
   "cell_type": "code",
   "execution_count": 92,
   "metadata": {},
   "outputs": [
    {
     "name": "stdout",
     "output_type": "stream",
     "text": [
      "\n",
      "Connection closed.\n"
     ]
    }
   ],
   "source": [
    "try:\n",
    "    # Your code here\n",
    "    pass  # Replace this with the actual code that might raise an error\n",
    "\n",
    "except Error as e:\n",
    "    print(f\"Error: {e}\")\n",
    "\n",
    "finally:\n",
    "    if connection.is_connected():\n",
    "        cursor.close()\n",
    "        connection.close()\n",
    "        print(\"\\nConnection closed.\")"
   ]
  }
 ],
 "metadata": {
  "kernelspec": {
   "display_name": "Python 3",
   "language": "python",
   "name": "python3"
  },
  "language_info": {
   "codemirror_mode": {
    "name": "ipython",
    "version": 3
   },
   "file_extension": ".py",
   "mimetype": "text/x-python",
   "name": "python",
   "nbconvert_exporter": "python",
   "pygments_lexer": "ipython3",
   "version": "3.13.1"
  }
 },
 "nbformat": 4,
 "nbformat_minor": 2
}
