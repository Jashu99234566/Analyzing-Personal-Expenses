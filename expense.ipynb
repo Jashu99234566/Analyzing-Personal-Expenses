{
 "cells": [
  {
   "cell_type": "code",
   "execution_count": 1,
   "metadata": {},
   "outputs": [],
   "source": [
    "from mysql.connector import connect, Error\n",
    "import pandas as pd\n",
    "from faker import Faker\n",
    "import random\n",
    "from datetime import datetime\n",
    "from calendar import monthrange"
   ]
  },
  {
   "cell_type": "code",
   "execution_count": 2,
   "metadata": {},
   "outputs": [],
   "source": [
    "#initialize faker\n",
    "fake = Faker()"
   ]
  },
  {
   "cell_type": "code",
   "execution_count": 3,
   "metadata": {},
   "outputs": [],
   "source": [
    "categories = [\"Groceries\", \"stationary\", \"shopping\", \"entertainment\", \"travel\", \"health\", \"bills\", \"rent\", \"Investments\", \"other\"]\n",
    "payment_modes = [\"Cash\", \"Debit Card\", \"UPI\", \"Netbanking\", \"Credit Card\"]\n",
    "\n",
    "descriptions = {\n",
    "    \"Groceries\": [\n",
    "        \"bought fruits from Mart\",\n",
    "        \"bought vegetables from Mart\",\n",
    "        \"bought meat from store\",\n",
    "        \"bought some households from store\"\n",
    "    ],\n",
    "    \"stationary\": [\n",
    "        \"bought pen from store\",\n",
    "        \"bought notebook from store\",\n",
    "        \"bought pencil from store\",\n",
    "        \"bought scissors from store\"\n",
    "    ],\n",
    "    \"shopping\": [\n",
    "        \"bought clothes from mall\",\n",
    "        \"bought shoes from mall\",\n",
    "        \"bought accessories from mall\",\n",
    "        \"bought bags from mall\"\n",
    "    ],\n",
    "    \"entertainment\": [\n",
    "        \"bought movie tickets\",\n",
    "        \"bought concert tickets\",\n",
    "        \"bought event tickets\",\n",
    "        \"bought party tickets\"\n",
    "    ],\n",
    "    \"travel\": [\n",
    "        \"bought flight tickets\",\n",
    "        \"bought train tickets\",\n",
    "        \"bought bus tickets\",\n",
    "        \"bought taxi tickets\"\n",
    "    ],\n",
    "    \"health\": [\n",
    "        \"bought medicines\",\n",
    "        \"bought supplements\",\n",
    "        \"health checkup expenses\",\n",
    "        \"bought health insurance\"\n",
    "    ],\n",
    "    \"bills\": [\n",
    "        \"paid electricity bill\",\n",
    "        \"paid water bill\",\n",
    "        \"paid internet bill\",\n",
    "        \"paid phone bill\"\n",
    "    ],\n",
    "    \"rent\": [\n",
    "        \"paid house rent\"\n",
    "    ],\n",
    "    \"Investments\": [\n",
    "        \"bought stocks\",\n",
    "        \"bought mutual funds\",\n",
    "        \"bought gold\",\n",
    "        \"bought silver\"\n",
    "    ],\n",
    "    \"other\": [\n",
    "        \"bought gifts\",\n",
    "        \"bought gadgets\"\n",
    "    ]\n",
    "}"
   ]
  },
  {
   "cell_type": "code",
   "execution_count": 4,
   "metadata": {},
   "outputs": [],
   "source": [
    "connection = connect(\n",
    "    host=\"localhost\",\n",
    "    user=\"root\",  \n",
    "    password=\"Jashu@#1234\",  \n",
    ")\n",
    "cursor = connection.cursor()"
   ]
  },
  {
   "cell_type": "code",
   "execution_count": 35,
   "metadata": {},
   "outputs": [],
   "source": [
    "connection.reconnect()"
   ]
  },
  {
   "cell_type": "code",
   "execution_count": 5,
   "metadata": {},
   "outputs": [
    {
     "data": {
      "text/plain": [
       "<generator object CMySQLCursor._execute_iter at 0x000001B89E463880>"
      ]
     },
     "execution_count": 5,
     "metadata": {},
     "output_type": "execute_result"
    }
   ],
   "source": [
    "# Create a new database and table for storing expenses\n",
    "create_db_query = \"\"\"\n",
    "CREATE DATABASE IF NOT EXISTS ExpenseDB;\n",
    "USE ExpenseDB;\n",
    "\n",
    "CREATE TABLE IF NOT EXISTS Expenses (\n",
    "    id INT AUTO_INCREMENT PRIMARY KEY,\n",
    "    Date DATE,\n",
    "    Category VARCHAR(50),\n",
    "    Payment_Mode VARCHAR(50),\n",
    "    Description TEXT,\n",
    "    Amount DECIMAL(10, 2),\n",
    "    Cashback DECIMAL(6, 2)\n",
    ");\n",
    "\"\"\"\n",
    "\n",
    "# Reconnect to the database if not connected\n",
    "if not connection.is_connected():\n",
    "    connection.reconnect()\n",
    "\n",
    "# Execute the query\n",
    "cursor.execute(create_db_query, multi=True)\n"
   ]
  },
  {
   "cell_type": "code",
   "execution_count": 6,
   "metadata": {},
   "outputs": [],
   "source": [
    "# Function to generate data for each month\n",
    "def gen_exp_data_per_month():\n",
    "    exp_data_per_month = {}\n",
    "    for month in range(1, 13):\n",
    "        month_str = f\"2025-{month:02d}\"\n",
    "        data = []\n",
    "        for _ in range(120):\n",
    "            # Generate a date within the specific month\n",
    "            days_in_month = monthrange(2025, month)[1]\n",
    "            start_date = datetime(2025, month, 1)\n",
    "            end_date = datetime(2025, month, days_in_month)\n",
    "            date = fake.date_between_dates(date_start=start_date, date_end=end_date)\n",
    "\n",
    "            # Generate other fields\n",
    "            category = random.choice(categories)\n",
    "            cashback = round(random.uniform(50.0, 600.0), 1)  # Cap cashback between 50 and 600\n",
    "            expense = {\n",
    "                \"Date\": date,\n",
    "                \"Category\": category,\n",
    "                \"Payment_Mode\": random.choice(payment_modes),\n",
    "                \"Description\": random.choice(descriptions[category]),\n",
    "                \"Amount\": random.randint(100, 10000),\n",
    "                \"Cashback\": cashback,\n",
    "            }\n",
    "            data.append(expense)\n",
    "        exp_data_per_month[month_str] = pd.DataFrame(data)\n",
    "    return exp_data_per_month"
   ]
  },
  {
   "cell_type": "code",
   "execution_count": 7,
   "metadata": {},
   "outputs": [],
   "source": [
    "# Generate data\n",
    "exp_data_per_month = gen_exp_data_per_month()"
   ]
  },
  {
   "cell_type": "code",
   "execution_count": 8,
   "metadata": {},
   "outputs": [],
   "source": [
    "# MySQL connection and data insertion\n",
    "try:\n",
    "    connection = connect(\n",
    "        host=\"localhost\",\n",
    "        user=\"root\",  \n",
    "        password=\"Jashu@#1234\",  \n",
    "        database=\"ExpenseDB\"\n",
    "    )\n",
    "    cursor = connection.cursor()\n",
    "except Error as e:\n",
    "    print(f\"Error occurred: {e}\")"
   ]
  },
  {
   "cell_type": "code",
   "execution_count": 9,
   "metadata": {},
   "outputs": [
    {
     "name": "stdout",
     "output_type": "stream",
     "text": [
      "Processing data for month: 2025-01\n",
      "Data for 2025/01 inserted successfully.\n",
      "Processing data for month: 2025-02\n",
      "Data for 2025/02 inserted successfully.\n",
      "Processing data for month: 2025-03\n",
      "Data for 2025/03 inserted successfully.\n",
      "Processing data for month: 2025-04\n",
      "Data for 2025/04 inserted successfully.\n",
      "Processing data for month: 2025-05\n",
      "Data for 2025/05 inserted successfully.\n",
      "Processing data for month: 2025-06\n",
      "Data for 2025/06 inserted successfully.\n",
      "Processing data for month: 2025-07\n",
      "Data for 2025/07 inserted successfully.\n",
      "Processing data for month: 2025-08\n",
      "Data for 2025/08 inserted successfully.\n",
      "Processing data for month: 2025-09\n",
      "Data for 2025/09 inserted successfully.\n",
      "Processing data for month: 2025-10\n",
      "Data for 2025/10 inserted successfully.\n",
      "Processing data for month: 2025-11\n",
      "Data for 2025/11 inserted successfully.\n",
      "Processing data for month: 2025-12\n",
      "Data for 2025/12 inserted successfully.\n",
      "Database connection closed.\n"
     ]
    }
   ],
   "source": [
    "insert_query = \"\"\"\n",
    "    INSERT INTO Expenses (Date, Category, Payment_Mode, Description, Amount, Cashback)\n",
    "    VALUES (%s, %s, %s, %s, %s, %s)\n",
    "\"\"\"\n",
    "\n",
    "try:\n",
    "    for month, df in exp_data_per_month.items():\n",
    "        if not df.empty:  # Check if DataFrame is not empty\n",
    "            print(f\"Processing data for month: {month}\")\n",
    "            \n",
    "            # Extracting and formatting data for insertion\n",
    "            data_to_insert = df[['Date', 'Category', 'Payment_Mode', 'Description', 'Amount', 'Cashback']].to_records(index=False).tolist()\n",
    "            \n",
    "            # Insert data into the table\n",
    "            cursor.executemany(insert_query, data_to_insert)\n",
    "            \n",
    "            # Commit changes to the database\n",
    "            connection.commit()\n",
    "            \n",
    "            # Print success message for the specific month\n",
    "            print(f\"Data for {month[:4]}/{month[5:]} inserted successfully.\")\n",
    "        \n",
    "except Error as e:\n",
    "    print(f\"Error occurred: {e}\")\n",
    "\n",
    "finally:\n",
    "    # Ensure resources are released properly\n",
    "    if connection.is_connected():\n",
    "        cursor.close()\n",
    "        connection.close()\n",
    "        print(\"Database connection closed.\")\n"
   ]
  },
  {
   "cell_type": "code",
   "execution_count": 10,
   "metadata": {},
   "outputs": [],
   "source": [
    "# Set Pandas display options to show wide tables in one line\n",
    "pd.set_option('display.max_columns', None)   # Show all columns\n",
    "pd.set_option('display.width', 1000)         # Increase display width\n",
    "pd.set_option('display.colheader_justify', 'left')  # Center align column headers"
   ]
  },
  {
   "cell_type": "code",
   "execution_count": 11,
   "metadata": {},
   "outputs": [
    {
     "name": "stdout",
     "output_type": "stream",
     "text": [
      "Successfully connected to the database.\n"
     ]
    }
   ],
   "source": [
    "# Connect to MySQL database\n",
    "try:\n",
    "    connection = connect(\n",
    "        host=\"localhost\",\n",
    "        user=\"root\",       # Replace with your username\n",
    "        password=\"Jashu@#1234\",   # Replace with your password\n",
    "        database=\"ExpenseDB\"        # Replace with your database name\n",
    "    )\n",
    "    if connection.is_connected():\n",
    "        cursor = connection.cursor()\n",
    "        print(\"Successfully connected to the database.\")\n",
    "except Error as e:\n",
    "    print(f\"Error occurred: {e}\")"
   ]
  },
  {
   "cell_type": "code",
   "execution_count": 12,
   "metadata": {},
   "outputs": [
    {
     "name": "stdout",
     "output_type": "stream",
     "text": [
      "1. Total Amount Spent in Each Category:\n",
      "  Category       Total Spent\n",
      "0         health  723915.00 \n",
      "1    Investments  758978.00 \n",
      "2      Groceries  727336.00 \n",
      "3         travel  793672.00 \n",
      "4     stationary  737562.00 \n",
      "5           rent  725458.00 \n",
      "6       shopping  660842.00 \n",
      "7          bills  659424.00 \n",
      "8  entertainment  695438.00 \n",
      "9          other  717060.00 \n"
     ]
    }
   ],
   "source": [
    "# Query 1: Total amount spent in each category\n",
    "cursor.execute(\"SELECT Category, SUM(Amount) AS Total_Spent FROM Expenses GROUP BY Category;\")\n",
    "result1 = cursor.fetchall()\n",
    "df1 = pd.DataFrame(result1, columns=[\"Category\", \"Total Spent\"])\n",
    "print(\"1. Total Amount Spent in Each Category:\")\n",
    "print(df1)"
   ]
  },
  {
   "cell_type": "code",
   "execution_count": 13,
   "metadata": {},
   "outputs": [
    {
     "name": "stdout",
     "output_type": "stream",
     "text": [
      "\n",
      "2. Total Amount Spent Using Each Payment Mode:\n",
      "  Payment Mode Total Spent\n",
      "0         Cash  1610992.00\n",
      "1   Debit Card  1422403.00\n",
      "2          UPI  1256866.00\n",
      "3   Netbanking  1438460.00\n",
      "4  Credit Card  1470964.00\n"
     ]
    }
   ],
   "source": [
    "# Query 2: Total amount spent using each payment mode\n",
    "cursor.execute(\"SELECT Payment_Mode, SUM(Amount) AS Total_Spent FROM Expenses GROUP BY Payment_Mode;\")\n",
    "result2 = cursor.fetchall()\n",
    "df2 = pd.DataFrame(result2, columns=[\"Payment Mode\", \"Total Spent\"])\n",
    "print(\"\\n2. Total Amount Spent Using Each Payment Mode:\")\n",
    "print(df2)\n"
   ]
  },
  {
   "cell_type": "code",
   "execution_count": 14,
   "metadata": {},
   "outputs": [
    {
     "name": "stdout",
     "output_type": "stream",
     "text": [
      "\n",
      "3. Total Cashback Received Across All Transactions:\n",
      "Total Cashback: ₹473,165.80\n"
     ]
    }
   ],
   "source": [
    "# Query 3: Total cashback received across all transactions\n",
    "cursor.execute(\"SELECT SUM(Cashback) AS Total_Cashback FROM Expenses;\")\n",
    "result3 = cursor.fetchone()\n",
    "print(\"\\n3. Total Cashback Received Across All Transactions:\")\n",
    "print(f\"Total Cashback: ₹{result3[0]:,.2f}\")"
   ]
  },
  {
   "cell_type": "code",
   "execution_count": 15,
   "metadata": {},
   "outputs": [
    {
     "name": "stdout",
     "output_type": "stream",
     "text": [
      "\n",
      "4. Top 5 Most Expensive Categories:\n",
      "  Category     Total Spent\n",
      "0       travel  793672.00 \n",
      "1  Investments  758978.00 \n",
      "2   stationary  737562.00 \n",
      "3    Groceries  727336.00 \n",
      "4         rent  725458.00 \n"
     ]
    }
   ],
   "source": [
    "# Query 4: Top 5 most expensive categories\n",
    "cursor.execute(\"SELECT Category, SUM(Amount) AS Total_Spent FROM Expenses GROUP BY Category ORDER BY Total_Spent DESC LIMIT 5;\")\n",
    "result4 = cursor.fetchall()\n",
    "df4 = pd.DataFrame(result4, columns=[\"Category\", \"Total Spent\"])\n",
    "print(\"\\n4. Top 5 Most Expensive Categories:\")\n",
    "print(df4)"
   ]
  },
  {
   "cell_type": "code",
   "execution_count": 18,
   "metadata": {},
   "outputs": [
    {
     "name": "stdout",
     "output_type": "stream",
     "text": [
      "\n",
      "5. Spending on Transportation by Payment Mode:\n",
      "  Payment Mode Total Spent\n",
      "0   Netbanking  149621.00 \n",
      "1   Debit Card  196269.00 \n",
      "2         Cash  159507.00 \n",
      "3          UPI  117582.00 \n",
      "4  Credit Card  170693.00 \n"
     ]
    }
   ],
   "source": [
    "# Query 5: Spending on transportation by payment mode\n",
    "cursor.execute(\"SELECT Payment_Mode, SUM(Amount) AS Total_Spent FROM Expenses WHERE Category = 'Travel' GROUP BY Payment_Mode;\")\n",
    "result5 = cursor.fetchall()\n",
    "df5 = pd.DataFrame(result5, columns=[\"Payment Mode\", \"Total Spent\"])\n",
    "print(\"\\n5. Spending on Transportation by Payment Mode:\")\n",
    "print(df5)"
   ]
  },
  {
   "cell_type": "code",
   "execution_count": 19,
   "metadata": {},
   "outputs": [
    {
     "name": "stdout",
     "output_type": "stream",
     "text": [
      "\n",
      "6. Transactions Resulting in Cashback:\n",
      "      ID   Date        Category     Payment Mode Description                   Amount   Cashback\n",
      "0        1  2025-01-01       health         Cash       bought health insurance  3704.00  210.20 \n",
      "1        2  2025-01-05  Investments   Debit Card                 bought silver  6915.00  198.70 \n",
      "2        3  2025-01-13       health   Debit Card              bought medicines  3770.00  248.20 \n",
      "3        4  2025-01-02    Groceries          UPI       bought fruits from Mart  5166.00  110.50 \n",
      "4        5  2025-01-06       health   Debit Card       health checkup expenses  2514.00  531.80 \n",
      "...    ...         ...          ...          ...                           ...      ...      ...\n",
      "1435  1436  2025-12-12   stationary   Debit Card         bought pen from store  1684.00  459.80 \n",
      "1436  1437  2025-12-18     shopping          UPI         bought bags from mall  8657.00  361.90 \n",
      "1437  1438  2025-12-19        bills  Credit Card               paid water bill  5954.00  457.50 \n",
      "1438  1439  2025-12-22     shopping  Credit Card  bought accessories from mall  3366.00  554.10 \n",
      "1439  1440  2025-12-05  Investments          UPI                 bought stocks  7421.00  122.90 \n",
      "\n",
      "[1440 rows x 7 columns]\n"
     ]
    }
   ],
   "source": [
    "# Query 6: Transactions resulting in cashback\n",
    "cursor.execute(\"SELECT * FROM Expenses WHERE Cashback > 0;\")\n",
    "result6 = cursor.fetchall()\n",
    "df6 = pd.DataFrame(result6, columns=[\"ID\", \"Date\", \"Category\", \"Payment Mode\", \"Description\", \"Amount\", \"Cashback\"])\n",
    "print(\"\\n6. Transactions Resulting in Cashback:\")\n",
    "print(df6)"
   ]
  },
  {
   "cell_type": "code",
   "execution_count": 20,
   "metadata": {},
   "outputs": [
    {
     "name": "stdout",
     "output_type": "stream",
     "text": [
      "\n",
      "7. Total Spending in Each Month:\n",
      "    Month Total Spent\n",
      "0    1     651364.00 \n",
      "1    2     600502.00 \n",
      "2    3     604754.00 \n",
      "3    4     599856.00 \n",
      "4    5     602511.00 \n",
      "5    6     563759.00 \n",
      "6    7     588354.00 \n",
      "7    8     600215.00 \n",
      "8    9     623293.00 \n",
      "9   10     587914.00 \n",
      "10  11     537774.00 \n",
      "11  12     639389.00 \n"
     ]
    }
   ],
   "source": [
    "# Query 7: Total spending in each month\n",
    "cursor.execute(\"SELECT MONTH(Date) AS Month, SUM(Amount) AS Total_Spent FROM Expenses GROUP BY Month ORDER BY Month;\")\n",
    "result7 = cursor.fetchall()\n",
    "df7 = pd.DataFrame(result7, columns=[\"Month\", \"Total Spent\"])\n",
    "print(\"\\n7. Total Spending in Each Month:\")\n",
    "print(df7)"
   ]
  },
  {
   "cell_type": "code",
   "execution_count": 21,
   "metadata": {},
   "outputs": [
    {
     "name": "stdout",
     "output_type": "stream",
     "text": [
      "\n",
      "8. Months with Highest Spending in Specific Categories:\n",
      "    Month Category       Total Spent\n",
      "0    1            travel  111626.00 \n",
      "1    8            travel  101447.00 \n",
      "2    9            travel   84672.00 \n",
      "3   10     entertainment   81698.00 \n",
      "4    5     entertainment   73507.00 \n",
      "5    7     entertainment   70146.00 \n",
      "6   12            travel   65164.00 \n",
      "7    6            travel   63975.00 \n",
      "8   11            travel   63253.00 \n",
      "9   11     entertainment   63040.00 \n",
      "10   8     entertainment   62860.00 \n",
      "11   5            travel   61415.00 \n",
      "12  10            travel   58736.00 \n",
      "13   2     entertainment   57460.00 \n",
      "14  12     entertainment   54242.00 \n",
      "15   4     entertainment   53627.00 \n",
      "16   4            travel   53535.00 \n",
      "17   7            travel   51627.00 \n",
      "18   3            travel   51022.00 \n",
      "19   3     entertainment   49070.00 \n",
      "20   6     entertainment   45091.00 \n",
      "21   9     entertainment   44537.00 \n",
      "22   1     entertainment   40160.00 \n",
      "23   2            travel   27200.00 \n"
     ]
    }
   ],
   "source": [
    "# Query 8: Months with highest spending in specific categories\n",
    "cursor.execute(\"\"\"\n",
    "    SELECT MONTH(Date) AS Month, Category, SUM(Amount) AS Total_Spent \n",
    "    FROM Expenses \n",
    "    WHERE Category IN ('Travel', 'Entertainment', 'Gifts') \n",
    "    GROUP BY Month, Category ORDER BY Total_Spent DESC;\n",
    "\"\"\")\n",
    "result8 = cursor.fetchall()\n",
    "df8 = pd.DataFrame(result8, columns=[\"Month\", \"Category\", \"Total Spent\"])\n",
    "print(\"\\n8. Months with Highest Spending in Specific Categories:\")\n",
    "print(df8)"
   ]
  },
  {
   "cell_type": "code",
   "execution_count": 22,
   "metadata": {},
   "outputs": [
    {
     "name": "stdout",
     "output_type": "stream",
     "text": [
      "\n",
      "9. Average Spending Per Transaction:\n",
      "Average Spending: ₹4,999.78\n"
     ]
    }
   ],
   "source": [
    "# Query 9: Average spending per transaction\n",
    "cursor.execute(\"SELECT AVG(Amount) AS Avg_Spending FROM Expenses;\")\n",
    "result9 = cursor.fetchone()\n",
    "print(\"\\n9. Average Spending Per Transaction:\")\n",
    "print(f\"Average Spending: ₹{result9[0]:,.2f}\")"
   ]
  },
  {
   "cell_type": "code",
   "execution_count": 23,
   "metadata": {},
   "outputs": [
    {
     "name": "stdout",
     "output_type": "stream",
     "text": [
      "\n",
      "10. Most Common Spending Day of the Week:\n",
      "Day: Wednesday, Transactions: 226\n"
     ]
    }
   ],
   "source": [
    "# Query 10: Most common spending day of the week\n",
    "cursor.execute(\"\"\"\n",
    "    SELECT DAYNAME(Date) AS Day, COUNT(*) AS Transactions \n",
    "    FROM Expenses \n",
    "    GROUP BY Day \n",
    "    ORDER BY Transactions DESC LIMIT 1;\n",
    "\"\"\")\n",
    "result10 = cursor.fetchone()\n",
    "print(\"\\n10. Most Common Spending Day of the Week:\")\n",
    "print(f\"Day: {result10[0]}, Transactions: {result10[1]}\")"
   ]
  },
  {
   "cell_type": "code",
   "execution_count": 24,
   "metadata": {},
   "outputs": [
    {
     "name": "stdout",
     "output_type": "stream",
     "text": [
      "\n",
      "11. Spending Trends by Day of the Week:\n",
      "  Day        Total Spent\n",
      "0     Sunday   893752.00\n",
      "1     Monday  1106120.00\n",
      "2    Tuesday   968245.00\n",
      "3  Wednesday  1069842.00\n",
      "4   Thursday   930380.00\n",
      "5     Friday  1116199.00\n",
      "6   Saturday  1115147.00\n"
     ]
    }
   ],
   "source": [
    "# Query 11: Spending trends by day of the week\n",
    "cursor.execute(\"\"\"\n",
    "    SELECT DAYNAME(Date) AS Day, SUM(Amount) AS Total_Spent \n",
    "    FROM Expenses \n",
    "    GROUP BY Day \n",
    "    ORDER BY MIN(DAYOFWEEK(Date));\n",
    "\"\"\")\n",
    "result11 = cursor.fetchall()\n",
    "df11 = pd.DataFrame(result11, columns=[\"Day\", \"Total Spent\"])\n",
    "print(\"\\n11. Spending Trends by Day of the Week:\")\n",
    "print(df11)"
   ]
  },
  {
   "cell_type": "code",
   "execution_count": 25,
   "metadata": {},
   "outputs": [
    {
     "name": "stdout",
     "output_type": "stream",
     "text": [
      "\n",
      "12. Categories with Zero Spending:\n",
      "Empty DataFrame\n",
      "Columns: [Category]\n",
      "Index: []\n"
     ]
    }
   ],
   "source": [
    "# Query 12: Categories with zero spending\n",
    "cursor.execute(\"\"\"\n",
    "    SELECT Category \n",
    "    FROM (SELECT Category, SUM(Amount) AS Total_Spent FROM Expenses GROUP BY Category) AS subquery \n",
    "    WHERE Total_Spent = 0;\n",
    "\"\"\")\n",
    "result12 = cursor.fetchall()\n",
    "df12 = pd.DataFrame(result12, columns=[\"Category\"])\n",
    "print(\"\\n12. Categories with Zero Spending:\")\n",
    "print(df12)"
   ]
  },
  {
   "cell_type": "code",
   "execution_count": 26,
   "metadata": {},
   "outputs": [
    {
     "name": "stdout",
     "output_type": "stream",
     "text": [
      "\n",
      "13. Cashback Earned vs Total Spending:\n",
      "Cashback Percentage: 6.57%\n"
     ]
    }
   ],
   "source": [
    "# Query 13: Percentage of cashback earned vs total spending\n",
    "cursor.execute(\"SELECT SUM(Cashback) AS Total_Cashback, SUM(Amount) AS Total_Spent FROM Expenses;\")\n",
    "result13 = cursor.fetchone()\n",
    "cashback_percentage = (result13[0] / result13[1]) * 100\n",
    "print(\"\\n13. Cashback Earned vs Total Spending:\")\n",
    "print(f\"Cashback Percentage: {cashback_percentage:.2f}%\")"
   ]
  },
  {
   "cell_type": "code",
   "execution_count": 27,
   "metadata": {},
   "outputs": [
    {
     "name": "stdout",
     "output_type": "stream",
     "text": [
      "\n",
      "14. Highest Spending in a Single Transaction:\n",
      "   ID  Date        Category  Payment Mode Description               Amount   Cashback\n",
      "0  822  2025-07-10  shopping  Cash         bought clothes from mall  9993.00  352.00 \n"
     ]
    }
   ],
   "source": [
    "# Query 14: Highest spending in a single transaction\n",
    "cursor.execute(\"SELECT * FROM Expenses ORDER BY Amount DESC LIMIT 1;\")\n",
    "result14 = cursor.fetchall()\n",
    "df14 = pd.DataFrame(result14, columns=[\"ID\", \"Date\", \"Category\", \"Payment Mode\", \"Description\", \"Amount\", \"Cashback\"])\n",
    "print(\"\\n14. Highest Spending in a Single Transaction:\")\n",
    "print(df14)       "
   ]
  },
  {
   "cell_type": "code",
   "execution_count": 28,
   "metadata": {},
   "outputs": [
    {
     "name": "stdout",
     "output_type": "stream",
     "text": [
      "\n",
      "15. Spending Trends for Recurring Expenses:\n",
      "    Month Category     Total Spent\n",
      "0    1           bills  51830.00  \n",
      "1    1     Investments  86085.00  \n",
      "2    1            rent  69719.00  \n",
      "3    2           bills  62306.00  \n",
      "4    2     Investments  56974.00  \n",
      "5    2            rent  92325.00  \n",
      "6    3           bills   6714.00  \n",
      "7    3     Investments  99262.00  \n",
      "8    3            rent  62703.00  \n",
      "9    4           bills  45024.00  \n",
      "10   4     Investments  63448.00  \n",
      "11   4            rent  83678.00  \n",
      "12   5           bills  62353.00  \n",
      "13   5     Investments  47626.00  \n",
      "14   5            rent  47370.00  \n",
      "15   6           bills  63648.00  \n",
      "16   6     Investments  55661.00  \n",
      "17   6            rent  94720.00  \n",
      "18   7           bills  69175.00  \n",
      "19   7     Investments  62578.00  \n",
      "20   7            rent  50021.00  \n",
      "21   8           bills  54738.00  \n",
      "22   8     Investments  44196.00  \n",
      "23   8            rent  43860.00  \n",
      "24   9           bills  58997.00  \n",
      "25   9     Investments  67587.00  \n",
      "26   9            rent  51659.00  \n",
      "27  10           bills  83307.00  \n",
      "28  10     Investments  16542.00  \n",
      "29  10            rent  53945.00  \n",
      "30  11           bills  24325.00  \n",
      "31  11     Investments  68174.00  \n",
      "32  11            rent  55631.00  \n",
      "33  12           bills  77007.00  \n",
      "34  12     Investments  90845.00  \n",
      "35  12            rent  19827.00  \n"
     ]
    }
   ],
   "source": [
    "# Query 15: Spending trends for recurring expenses\n",
    "cursor.execute(\"\"\"\n",
    "    SELECT MONTH(Date) AS Month, Category, SUM(Amount) AS Total_Spent \n",
    "    FROM Expenses \n",
    "    WHERE Category IN ('Rent', 'Bills', 'Investments') \n",
    "    GROUP BY Month, Category \n",
    "    ORDER BY Month;\n",
    "\"\"\")\n",
    "result15 = cursor.fetchall()\n",
    "df15 = pd.DataFrame(result15, columns=[\"Month\", \"Category\", \"Total Spent\"])\n",
    "print(\"\\n15. Spending Trends for Recurring Expenses:\")\n",
    "print(df15)       "
   ]
  },
  {
   "cell_type": "code",
   "execution_count": 29,
   "metadata": {},
   "outputs": [
    {
     "name": "stdout",
     "output_type": "stream",
     "text": [
      "\n",
      "16. Smallest Transaction by Amount:\n",
      "   ID Date        Category       Payment Mode Description           Amount  Cashback\n",
      "0  87  2025-01-05  entertainment  Debit Card   bought movie tickets  100.00  89.80  \n"
     ]
    }
   ],
   "source": [
    "# Query 16: Smallest transaction by amount\n",
    "cursor.execute(\"SELECT * FROM Expenses ORDER BY Amount ASC LIMIT 1;\")\n",
    "result16 = cursor.fetchall()\n",
    "df16 = pd.DataFrame(result16, columns=[\"ID\", \"Date\", \"Category\", \"Payment Mode\", \"Description\", \"Amount\", \"Cashback\"])\n",
    "print(\"\\n16. Smallest Transaction by Amount:\")\n",
    "print(df16)"
   ]
  },
  {
   "cell_type": "code",
   "execution_count": 30,
   "metadata": {},
   "outputs": [
    {
     "name": "stdout",
     "output_type": "stream",
     "text": [
      "\n",
      "17. Spending Distribution for Weekend vs Weekday:\n",
      "  Day Type Total Spent\n",
      "0  Weekday  5190786.00\n",
      "1  Weekend  2008899.00\n"
     ]
    }
   ],
   "source": [
    "# Query 17: Spending distribution for weekend vs weekday\n",
    "cursor.execute(\"\"\"\n",
    "    SELECT CASE \n",
    "        WHEN DAYOFWEEK(Date) IN (1, 7) THEN 'Weekend'\n",
    "        ELSE 'Weekday'\n",
    "    END AS Day_Type, SUM(Amount) AS Total_Spent \n",
    "    FROM Expenses \n",
    "    GROUP BY Day_Type;\n",
    "\"\"\")\n",
    "result17 = cursor.fetchall()\n",
    "df17 = pd.DataFrame(result17, columns=[\"Day Type\", \"Total Spent\"])\n",
    "print(\"\\n17. Spending Distribution for Weekend vs Weekday:\")\n",
    "print(df17)"
   ]
  },
  {
   "cell_type": "code",
   "execution_count": 31,
   "metadata": {},
   "outputs": [
    {
     "name": "stdout",
     "output_type": "stream",
     "text": [
      "\n",
      "18. Highest Cashback Earned in a Single Transaction:\n",
      "   ID  Date        Category Payment Mode Description     Amount   Cashback\n",
      "0  508  2025-05-28  other    Credit Card  bought gadgets  5682.00  599.90 \n"
     ]
    }
   ],
   "source": [
    "# Query 18: Highest cashback earned in a single transaction\n",
    "cursor.execute(\"SELECT * FROM Expenses ORDER BY Cashback DESC LIMIT 1;\")\n",
    "result18 = cursor.fetchall()\n",
    "df18 = pd.DataFrame(result18, columns=[\"ID\", \"Date\", \"Category\", \"Payment Mode\", \"Description\", \"Amount\", \"Cashback\"])\n",
    "print(\"\\n18. Highest Cashback Earned in a Single Transaction:\")\n",
    "print(df18)\n"
   ]
  },
  {
   "cell_type": "code",
   "execution_count": 32,
   "metadata": {},
   "outputs": [
    {
     "name": "stdout",
     "output_type": "stream",
     "text": [
      "\n",
      "Connection closed.\n"
     ]
    }
   ],
   "source": [
    "try:\n",
    "    # Your code here\n",
    "    pass  # Replace this with the actual code that might raise an error\n",
    "\n",
    "except Error as e:\n",
    "    print(f\"Error: {e}\")\n",
    "\n",
    "finally:\n",
    "    if connection.is_connected():\n",
    "        cursor.close()\n",
    "        connection.close()\n",
    "        print(\"\\nConnection closed.\")"
   ]
  }
 ],
 "metadata": {
  "kernelspec": {
   "display_name": "Python 3",
   "language": "python",
   "name": "python3"
  },
  "language_info": {
   "codemirror_mode": {
    "name": "ipython",
    "version": 3
   },
   "file_extension": ".py",
   "mimetype": "text/x-python",
   "name": "python",
   "nbconvert_exporter": "python",
   "pygments_lexer": "ipython3",
   "version": "3.13.1"
  }
 },
 "nbformat": 4,
 "nbformat_minor": 2
}
